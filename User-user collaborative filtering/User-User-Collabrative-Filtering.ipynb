{
 "cells": [
  {
   "cell_type": "code",
   "execution_count": 5,
   "metadata": {},
   "outputs": [],
   "source": [
    "# creating test and train data"
   ]
  },
  {
   "cell_type": "code",
   "execution_count": 6,
   "metadata": {},
   "outputs": [],
   "source": [
    "import pandas as pd\n",
    "import numpy as np\n",
    "from scipy.sparse import coo_matrix\n",
    "import warnings\n",
    "\n",
    "data_df = pd.read_csv('./ratings.dat', sep='::', names=[\"UserID\", \"MovieID\", \"Rating\", \"Timestamp\"], engine='python')\n",
    "\n",
    "# First, generate dictionaries for mapping old id to new id for users and movies\n",
    "unique_MovieID = data_df['MovieID'].unique()\n",
    "unique_UserID = data_df['UserID'].unique()\n",
    "j = 0\n",
    "user_old2new_id_dict = dict()\n",
    "for u in unique_UserID:\n",
    "    user_old2new_id_dict[u] = j\n",
    "    j += 1\n",
    "j = 0\n",
    "movie_old2new_id_dict = dict()\n",
    "for i in unique_MovieID:\n",
    "    movie_old2new_id_dict[i] = j\n",
    "    j += 1\n",
    "\n",
    "# Then, use the generated dictionaries to reindex UserID and MovieID in the data_df\n",
    "user_list = data_df['UserID'].values\n",
    "movie_list = data_df['MovieID'].values\n",
    "for j in range(len(data_df)):\n",
    "    user_list[j] = user_old2new_id_dict[user_list[j]]\n",
    "    movie_list[j] = movie_old2new_id_dict[movie_list[j]]\n",
    "data_df['UserID'] = user_list\n",
    "data_df['movieID'] = movie_list\n",
    "\n",
    "# generate train_df with 70% samples and test_df with 30% samples, and there should have no overlap between them.\n",
    "train_index = np.random.random(len(data_df)) <= 0.7\n",
    "train_df = data_df[train_index]\n",
    "test_df = data_df[~train_index]\n",
    "\n",
    "# generate train_mat and test_mat\n",
    "num_user = len(data_df['UserID'].unique())\n",
    "num_movie = len(data_df['MovieID'].unique())\n",
    "\n",
    "train_mat = coo_matrix((train_df['Rating'].values, (train_df['UserID'].values, train_df['MovieID'].values)), shape=(num_user, num_movie)).astype(float).toarray()\n",
    "test_mat = coo_matrix((test_df['Rating'].values, (test_df['UserID'].values, test_df['MovieID'].values)), shape=(num_user, num_movie)).astype(float).toarray()"
   ]
  },
  {
   "cell_type": "code",
   "execution_count": 7,
   "metadata": {},
   "outputs": [],
   "source": [
    "# User-user Collaborative Filtering with Pearson Similarity"
   ]
  },
  {
   "cell_type": "code",
   "execution_count": 8,
   "metadata": {},
   "outputs": [],
   "source": [
    "# import\n",
    "import numpy as np\n",
    "from scipy.stats import pearsonr"
   ]
  },
  {
   "cell_type": "code",
   "execution_count": 9,
   "metadata": {
    "id": "Z3N4-FNObj52"
   },
   "outputs": [],
   "source": [
    "# mean rating for each user\n",
    "#mean_ratings = np.nanmean(train_mat, axis=1)\n",
    "mean_all_users = np.mean(train_mat[train_mat!=0])\n",
    "\n",
    "# pearson correlation coefficients for user similarities\n",
    "pearson_coefficient_similarity = np.corrcoef(train_mat)\n",
    "\n",
    "prediction_mat = np.zeros_like(train_mat)\n",
    "all_users = train_mat.shape[0]\n",
    "\n",
    "mean_final = []\n",
    "\n",
    "for user in range(all_users):\n",
    "    if len(train_mat[i, train_mat[i] != 0]) > 0:\n",
    "        mean_final.append(np.mean(train_mat[user, train_mat[user] != 0]))\n",
    "    else:\n",
    "        mean_final.append(mean_all_users)\n",
    "        \n",
    "for index in range(all_users):\n",
    "    numerator = 0\n",
    "    denominator = 0 \n",
    "    similar_users = np.argsort(pearson_coefficient_similarity[index])[::-1]\n",
    "    five_similar_users = similar_users[1:6]\n",
    "    \n",
    "    for i in range(train_mat.shape[1]):\n",
    "        if train_mat[index, i] == 0: # if item for user is 0, then calculate\n",
    "            for v in five_similar_users:\n",
    "                if train_mat[v, i] != 0:\n",
    "                    # calculate numerator and denominator\n",
    "                    numerator += pearson_coefficient_similarity[index, v] * (train_mat[v, i] - mean_final[v])\n",
    "                    denominator += np.abs(pearson_coefficient_similarity[index, v])\n",
    "            if denominator != 0:\n",
    "                prediction_mat[index, i] = mean_final[index] + (numerator / denominator)\n",
    "            else:\n",
    "                prediction_mat[index, i] = mean_final[index]\n",
    "\n"
   ]
  },
  {
   "cell_type": "code",
   "execution_count": 10,
   "metadata": {},
   "outputs": [
    {
     "name": "stdout",
     "output_type": "stream",
     "text": [
      "[[ 1.          0.06844549  0.12182549 ... -0.00522354  0.1164999\n",
      "   0.11472079]\n",
      " [ 0.06844549  1.          0.10488302 ...  0.03471845  0.02423509\n",
      "   0.10772135]\n",
      " [ 0.12182549  0.10488302  1.         ...  0.05403576  0.0595124\n",
      "   0.06406599]\n",
      " ...\n",
      " [-0.00522354  0.03471845  0.05403576 ...  1.          0.08081921\n",
      "   0.0324779 ]\n",
      " [ 0.1164999   0.02423509  0.0595124  ...  0.08081921  1.\n",
      "   0.11056206]\n",
      " [ 0.11472079  0.10772135  0.06406599 ...  0.0324779   0.11056206\n",
      "   1.        ]]\n"
     ]
    }
   ],
   "source": [
    "print(pearson_coefficient_similarity)"
   ]
  },
  {
   "cell_type": "code",
   "execution_count": 11,
   "metadata": {
    "id": "qodE1kZqbj52"
   },
   "outputs": [
    {
     "name": "stdout",
     "output_type": "stream",
     "text": [
      "RMSE: 1.0284831618203052\n"
     ]
    }
   ],
   "source": [
    "mean_squared_diff = np.mean((prediction_mat[test_mat != 0] - test_mat[test_mat != 0]) ** 2)\n",
    "\n",
    "# calculate RMSE\n",
    "rmse = np.sqrt(mean_squared_diff)\n",
    "\n",
    "print(\"RMSE:\", rmse)"
   ]
  }
 ],
 "metadata": {
  "colab": {
   "collapsed_sections": [
    "Ywt9ohHtL77T",
    "N7x8b4HNbj5z",
    "9Tl2tFlibnAY",
    "wKZ8ijNPTXMN"
   ],
   "provenance": []
  },
  "kernelspec": {
   "display_name": "Python 3 (ipykernel)",
   "language": "python",
   "name": "python3"
  },
  "language_info": {
   "codemirror_mode": {
    "name": "ipython",
    "version": 3
   },
   "file_extension": ".py",
   "mimetype": "text/x-python",
   "name": "python",
   "nbconvert_exporter": "python",
   "pygments_lexer": "ipython3",
   "version": "3.11.4"
  }
 },
 "nbformat": 4,
 "nbformat_minor": 1
}
